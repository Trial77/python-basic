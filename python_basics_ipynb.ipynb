{
  "nbformat": 4,
  "nbformat_minor": 0,
  "metadata": {
    "colab": {
      "provenance": []
    },
    "kernelspec": {
      "name": "python3",
      "display_name": "Python 3"
    },
    "language_info": {
      "name": "python"
    }
  },
  "cells": [
    {
      "cell_type": "code",
      "execution_count": null,
      "metadata": {
        "id": "-tNf37MQdH5s"
      },
      "outputs": [],
      "source": [
        "# python basics"
      ]
    },
    {
      "cell_type": "markdown",
      "source": [
        "Q1 What is Python, and why is it popular\n",
        "\n",
        "ans 1 Python is a high-level programming language that’s super popular for lots\n",
        "     of things — from data analysis and machine learning to web development and automation.\n",
        "\n",
        "   It was created to be easy to read and write, so beginners and pros alike love it. Its syntax is clean and straightforward, which means you can focus more on solving problems than wrestling with complicated code.\n",
        "\n",
        "  Why is Python so Popular?\n",
        "  Easy to Learn and Use\n",
        "  Its simple, English-like syntax makes it perfect for beginners and experts. You can write less code to do more compared to many other languages.\n",
        "\n",
        "\n",
        "  Versatility\n",
        "   You can use Python for almost anything — from crunching numbers to building websites or automating repetitive tasks.\n",
        "\n",
        "   Great Community Support\n",
        "   Python has a massive global community. If you ever get stuck, you’ll find countless tutorials, forums, and resources.\n",
        "\n",
        "   Integrates Well with Other Technologies\n",
        "   Python plays nicely with other languages and tools, making it easy to add into existing projects or workflows.\n",
        "\n",
        "  Widely Used in Data Science & AI\n",
        "   Because of all the data science libraries and ease of prototyping, Python became the go-to language for data analysts and AI researchers."
      ],
      "metadata": {
        "id": "H1OOwVKBdjqM"
      }
    },
    {
      "cell_type": "markdown",
      "source": [
        "Q2 What is an interpreter in Python\n",
        "\n",
        "--ans An interpreter is a program that reads your Python code line-by-line, translates it into machine language, and executes it right away — without needing to compile the whole program first.\n",
        "\n",
        "So, instead of turning your code into a big chunk of machine code all at once (like some other languages do), Python’s interpreter runs your code step-by-step"
      ],
      "metadata": {
        "id": "UPpj_M8Jdjm8"
      }
    },
    {
      "cell_type": "markdown",
      "source": [
        "Q3 What are pre-defined keywords in Python\n",
        "\n",
        "--ans Pre-defined keywords in Python are special reserved words that have specific meanings in the language. You can’t use them as variable names or identifiers because Python uses them to understand the structure and behavior of your code.\n"
      ],
      "metadata": {
        "id": "JFx_DOYEdjYW"
      }
    },
    {
      "cell_type": "markdown",
      "source": [
        "Q4  Can keywords be used as variable names\n",
        "- ans Pre-defined keywords in Python are special reserved words that have specific meanings in the language. You can’t use them as variable names or identifiers because Python uses them to understand the structure and behavior of our code."
      ],
      "metadata": {
        "id": "GmBEyaSSdiyH"
      }
    },
    {
      "cell_type": "markdown",
      "source": [
        "Q5 What is mutability in Python\n",
        "\n",
        "-- ans In Python, mutability refers to whether or not a data type can be changed after it's created.\n",
        "\n",
        "If something is mutable, you can change its contents (like add, remove, or update elements).\n",
        "\n",
        "If something is immutable, once it’s created, it can’t be changed — any \"change\" creates a new object"
      ],
      "metadata": {
        "id": "eale94AOdiu0"
      }
    },
    {
      "cell_type": "markdown",
      "source": [
        "Q6  Why are lists mutable, but tuples are immutable\n",
        "-- ans The difference comes down to design choices in Python that balance flexibility vs safety and performance.\n",
        "\n",
        " Lists are Mutable because:\n",
        "They're meant to hold data that might change — like dynamic collections.\n",
        "\n",
        "we can add, remove, or update elements after the list is created.\n",
        "\n",
        "Useful when we're working with changing data, like a to-do list or user inputs\n",
        "\n",
        " Tuples are Immutable because:\n",
        "They're designed to be fixed, reliable, and unchangeable.\n",
        "\n",
        "Used when we want to protect data from being modified (like coordinates, dates, or constants).\n",
        "\n",
        "They can be used as dictionary keys, which require immutability\n"
      ],
      "metadata": {
        "id": "yC7S9XprdisV"
      }
    },
    {
      "cell_type": "markdown",
      "source": [
        "Q7   What is the difference between “==” and “is” operators in Python\n",
        "Ans\n",
        "      \n",
        "  == checks equality\n",
        "\n",
        "   It checks if the values are the same — even if they are stored in different memory locations.\n",
        "\n",
        "  is checks identity\n",
        "\n",
        "   It checks if both variables point to the exact same object in memory\n"
      ],
      "metadata": {
        "id": "FB-QYwTudijQ"
      }
    },
    {
      "cell_type": "markdown",
      "source": [
        "Q8 What are logical operators in Python\n",
        "\n",
        "--ans Logical operators are used to combine multiple conditions and return either True or False. They’re super useful in if-statements, loops, and filtering data.\n"
      ],
      "metadata": {
        "id": "dTPkeIrsdif3"
      }
    },
    {
      "cell_type": "code",
      "source": [
        "age = 25\n",
        "country = \"India\"\n",
        "\n",
        "if age > 18 and country == \"India\":\n",
        "    print(\"You are eligible!\")\n",
        "\n"
      ],
      "metadata": {
        "colab": {
          "base_uri": "https://localhost:8080/"
        },
        "id": "x0gnO-JkoBI4",
        "outputId": "dd28a4c6-0394-4e2b-d45a-4ed8506bc49d"
      },
      "execution_count": 1,
      "outputs": [
        {
          "output_type": "stream",
          "name": "stdout",
          "text": [
            "You are eligible!\n"
          ]
        }
      ]
    },
    {
      "cell_type": "markdown",
      "source": [
        "Q9  What is type casting in Python\n",
        "\n",
        "--ans Type casting in Python means converting one data type into another — like changing a string into an integer, or a float into a string. It’s super useful when working with user inputs, data from files, or even doing math with mixed data types"
      ],
      "metadata": {
        "id": "BQOiiXhfp--F"
      }
    },
    {
      "cell_type": "markdown",
      "source": [
        "Q10  What is the difference between implicit and explicit type casting\n",
        "\n",
        "\n",
        "--ans  1. Implicit Type Casting\n",
        "Python automatically converts types when it makes sens\n",
        "\n",
        "\n"
      ],
      "metadata": {
        "id": "6kba6JLXdidS"
      }
    },
    {
      "cell_type": "code",
      "source": [
        "x = 10       # int\n",
        "y = 2.5      # float\n",
        "result = x + y\n",
        "\n",
        "print(result)      # 12.5 (float)\n",
        "print(type(result))  # <class 'float'>\n"
      ],
      "metadata": {
        "colab": {
          "base_uri": "https://localhost:8080/"
        },
        "id": "4rU0_nK_pKvT",
        "outputId": "3bbeca8c-7137-4c85-fe80-42892cbefaa3"
      },
      "execution_count": 2,
      "outputs": [
        {
          "output_type": "stream",
          "name": "stdout",
          "text": [
            "12.5\n",
            "<class 'float'>\n"
          ]
        }
      ]
    },
    {
      "cell_type": "markdown",
      "source": [
        "2. Explicit Type Casting (you do it)\n",
        "You manually convert using functions like:\n",
        "\n",
        "int() → to convert to integer\n",
        "\n",
        "float() → to convert to float\n",
        "\n",
        "str() → to convert to string\n",
        "\n",
        "bool() → to convert to boolean"
      ],
      "metadata": {
        "id": "-EapOIvvpZvn"
      }
    },
    {
      "cell_type": "code",
      "source": [
        "age = \"24\"\n",
        "age_num = int(age)  # Now it's an integer\n",
        "\n",
        "print(age_num + 1)  # Output: 25\n"
      ],
      "metadata": {
        "colab": {
          "base_uri": "https://localhost:8080/"
        },
        "id": "Zzf00RARpboT",
        "outputId": "f27db35f-719f-41c0-d652-fdff4c4b2ca8"
      },
      "execution_count": 3,
      "outputs": [
        {
          "output_type": "stream",
          "name": "stdout",
          "text": [
            "25\n"
          ]
        }
      ]
    },
    {
      "cell_type": "markdown",
      "source": [
        "Q10  What is the purpose of conditional statements in Python\n",
        "\n",
        "\n",
        "--ans Conditional statements are used to make decisions in your code. They let your program run different blocks of code depending on whether a condition is true or false.\n",
        "\n",
        "Why are they important?\n",
        "They help our program react differently based on input or situations.\n",
        "\n",
        "Allow us to control the flow of your program.\n",
        "\n",
        "Make our code dynamic instead of just running straight from top to bottom.\n",
        "\n",
        "Common Conditional Statements in Python:\n",
        "if\n",
        "\n",
        "elif (else if)\n",
        "\n",
        "els\n"
      ],
      "metadata": {
        "id": "UQtSO7P4diar"
      }
    },
    {
      "cell_type": "markdown",
      "source": [
        "Q11  How does the elif statement work\n",
        "\n",
        "\n",
        "--ans elif stands for “else if” — it lets you check multiple conditions one after another in a clean, readable way.\n",
        "\n",
        " How does it work?\n",
        "Python checks the first if condition.\n",
        "\n",
        "If it's True, it runs that block and skips the rest.\n",
        "\n",
        "If it’s False, it moves to the elif condition and checks it.\n",
        "\n",
        "we can have multiple elif blocks to check different conditions.\n",
        "\n",
        "If none of the if or elif conditions are True, it runs the else block"
      ],
      "metadata": {
        "id": "3plAb7cGdiXq"
      }
    },
    {
      "cell_type": "markdown",
      "source": [
        "Q12 What is the difference between for and while loops\n",
        "\n",
        "\n",
        "\n",
        "  --ans Both are used to repeat code, but the way they work is a little different.\n",
        "\n",
        "🔹 for loop → Looping over something with a known number of items\n",
        "Use a for loop when you know how many times you want to loop — like going through a list, a range of numbers, or any collection."
      ],
      "metadata": {
        "id": "z-NgNEGMdiUe"
      }
    },
    {
      "cell_type": "markdown",
      "source": [
        "13 Describe a scenario where a while loop is more suitable than a for loop.\n",
        "\n",
        "\n",
        "Imagine  creating a login system where the user can keep entering their password until they get it right. we don't know how many times they'll get it wrong, so we can't use a for loop with a fixed range — this is where a while loop shines!"
      ],
      "metadata": {
        "id": "AYXg3SQSdiQf"
      }
    },
    {
      "cell_type": "code",
      "source": [
        "correct_password = \"data123\"\n",
        "user_input = input(\"Enter your password: \")\n",
        "\n",
        "while user_input != correct_password:\n",
        "    print(\"Incorrect password, try again.\")\n",
        "    user_input = input(\"Enter your password: \")\n",
        "\n",
        "print(\"Access granted!\")\n"
      ],
      "metadata": {
        "colab": {
          "base_uri": "https://localhost:8080/"
        },
        "id": "RQDtC3hIua43",
        "outputId": "3acd275e-7a0a-46bb-e01f-e90dd9960651"
      },
      "execution_count": 4,
      "outputs": [
        {
          "output_type": "stream",
          "name": "stdout",
          "text": [
            "Enter your password: data123\n",
            "Access granted!\n"
          ]
        }
      ]
    },
    {
      "cell_type": "markdown",
      "source": [
        "# practicals"
      ],
      "metadata": {
        "id": "qFWw4d7cul49"
      }
    },
    {
      "cell_type": "code",
      "source": [
        "# Q1 Write a Python program to print \"Hello, World!\n",
        "print(\"Hello, World!\")\n"
      ],
      "metadata": {
        "id": "poz3wlBQv5eK"
      },
      "execution_count": null,
      "outputs": []
    },
    {
      "cell_type": "code",
      "source": [
        "# Q2 &8 Write a Python program that displays your name and age8\n",
        "# Simple program to display name and age\n",
        "\n",
        "name = \"kamna baghel\"      # Replace with your actual name\n",
        "age = 24                # Replace with your actual age\n",
        "\n",
        "print(\"Hello, my name is\", name)\n",
        "print(\"I am\", age , \"years old.\")\n"
      ],
      "metadata": {
        "colab": {
          "base_uri": "https://localhost:8080/"
        },
        "id": "BAFWby0jwPuG",
        "outputId": "0c85239a-d6f2-46de-b4fc-576d7b04f0ac"
      },
      "execution_count": 6,
      "outputs": [
        {
          "output_type": "stream",
          "name": "stdout",
          "text": [
            "Hello, my name is kamna baghel\n",
            "I am 24 years old.\n"
          ]
        }
      ]
    },
    {
      "cell_type": "code",
      "source": [
        "#Q3  Write code to print all the pre-defined keywords in Python using the\n",
        "# keyword library\n",
        "\n",
        "import keyword\n",
        "\n",
        "# Get the list of all Python keywords\n",
        "keywords = keyword.kwlist\n",
        "\n",
        "print(\"Python Pre-defined Keywords:\")\n",
        "for word in keywords:\n",
        "    print(word)\n"
      ],
      "metadata": {
        "colab": {
          "base_uri": "https://localhost:8080/"
        },
        "id": "vZMAns3JyJRc",
        "outputId": "6b6f83f0-c083-4a41-d665-0e9f2dec2bec"
      },
      "execution_count": 8,
      "outputs": [
        {
          "output_type": "stream",
          "name": "stdout",
          "text": [
            "Python Pre-defined Keywords:\n",
            "False\n",
            "None\n",
            "True\n",
            "and\n",
            "as\n",
            "assert\n",
            "async\n",
            "await\n",
            "break\n",
            "class\n",
            "continue\n",
            "def\n",
            "del\n",
            "elif\n",
            "else\n",
            "except\n",
            "finally\n",
            "for\n",
            "from\n",
            "global\n",
            "if\n",
            "import\n",
            "in\n",
            "is\n",
            "lambda\n",
            "nonlocal\n",
            "not\n",
            "or\n",
            "pass\n",
            "raise\n",
            "return\n",
            "try\n",
            "while\n",
            "with\n",
            "yield\n"
          ]
        }
      ]
    },
    {
      "cell_type": "code",
      "source": [
        "#Q4   Write a program that checks if a given word is a Python keyword.\n",
        "\n",
        "import keyword\n",
        "\n",
        "# Ask the user to enter a word\n",
        "word = input(\"Enter a word to check if it's a Python keyword: \")\n",
        "\n",
        "# Check if it's a keyword\n",
        "if keyword.iskeyword(word):\n",
        "    print(f\"✅ '{word}' is a Python keyword.\")\n",
        "else:\n",
        "    print(f\"❌ '{word}' is NOT a Python keyword.\")\n"
      ],
      "metadata": {
        "colab": {
          "base_uri": "https://localhost:8080/"
        },
        "id": "xup1S68Mw92a",
        "outputId": "a8ebd1b2-18d5-404b-a307-cb0afa9d2ebe"
      },
      "execution_count": 9,
      "outputs": [
        {
          "output_type": "stream",
          "name": "stdout",
          "text": [
            "Enter a word to check if it's a Python keyword: is\n",
            "✅ 'is' is a Python keyword.\n"
          ]
        }
      ]
    },
    {
      "cell_type": "markdown",
      "source": [],
      "metadata": {
        "id": "pR9cc8u2wr6g"
      }
    },
    {
      "cell_type": "code",
      "source": [
        "# Q5 Write a function to demonstrate the behavior of mutable and immutable arguments.\n",
        "\"\"\"ans Mutable vs Immutable Recap:\n",
        "Immutable types: int, float, str, tuple\n",
        "\n",
        "Changes inside a function don’t affect the original.\n",
        "\n",
        "Mutable types: list, dict, set\n",
        "\n",
        "Changes inside a function can affect the original.\"\"\"\n",
        "# Function to demonstrate mutable and immutable arguments\n",
        "\n",
        "def modify_data(number, items):\n",
        "    number += 1         # This won't affect the original 'number'\n",
        "    items.append(4)     # This will affect the original 'items' list\n",
        "\n",
        "# Immutable example\n",
        "num = 10\n",
        "# Mutable example\n",
        "my_list = [1, 2, 3]\n",
        "\n",
        "modify_data(num, my_list)\n",
        "\n",
        "print(\"After function call:\")\n",
        "print(\"num (immutable):\", num)         # Still 10\n",
        "print(\"my_list (mutable):\", my_list)   # Changed to [1, 2, 3, 4]\n",
        "\n"
      ],
      "metadata": {
        "colab": {
          "base_uri": "https://localhost:8080/"
        },
        "id": "HPX8MfjaxIfs",
        "outputId": "eec56d31-7d34-40ca-c7a8-15796bde117a"
      },
      "execution_count": 11,
      "outputs": [
        {
          "output_type": "stream",
          "name": "stdout",
          "text": [
            "After function call:\n",
            "num (immutable): 10\n",
            "my_list (mutable): [1, 2, 3, 4]\n"
          ]
        }
      ]
    },
    {
      "cell_type": "code",
      "source": [
        "#Q6. Write a function to demonstrate the behavior of mutable and immutable arguments.\n",
        "def demonstrate_behavior(immutable_var, mutable_var):\n",
        "    print(\"Inside function before change:\")\n",
        "    print(\"Immutable variable:\", immutable_var)\n",
        "    print(\"Mutable variable:\", mutable_var)\n",
        "\n",
        "    # Try modifying both\n",
        "    immutable_var += 100     # This creates a new object (won't affect original)\n",
        "    mutable_var.append(\"new\") # This modifies the original list\n",
        "\n",
        "    print(\"\\nInside function after change:\")\n",
        "    print(\"Immutable variable:\", immutable_var)\n",
        "    print(\"Mutable variable:\", mutable_var)\n",
        "\n",
        "# Immutable: integer\n",
        "x = 10\n",
        "\n",
        "# Mutable: list\n",
        "my_list = [\"original\"]\n",
        "\n",
        "# Call the function\n",
        "demonstrate_behavior(x, my_list)\n",
        "\n",
        "print(\"\\nOutside function after call:\")\n",
        "print(\"x (immutable):\", x)               # Still 10\n",
        "print(\"my_list (mutable):\", my_list)     # Now [\"original\", \"new\"]\n"
      ],
      "metadata": {
        "colab": {
          "base_uri": "https://localhost:8080/"
        },
        "id": "tv9RFVVcxIcR",
        "outputId": "0e2e7ffe-a07e-4ec7-8d44-1550157544f9"
      },
      "execution_count": 12,
      "outputs": [
        {
          "output_type": "stream",
          "name": "stdout",
          "text": [
            "Inside function before change:\n",
            "Immutable variable: 10\n",
            "Mutable variable: ['original']\n",
            "\n",
            "Inside function after change:\n",
            "Immutable variable: 110\n",
            "Mutable variable: ['original', 'new']\n",
            "\n",
            "Outside function after call:\n",
            "x (immutable): 10\n",
            "my_list (mutable): ['original', 'new']\n"
          ]
        }
      ]
    },
    {
      "cell_type": "code",
      "source": [
        "# 7. Write a program that performs basic arithmetic operations on two user-input numbers.\n",
        "# Get input from the user\n",
        "num1 = float(input(\"Enter the first number: \"))\n",
        "num2 = float(input(\"Enter the second number: \"))\n",
        "\n",
        "# Perform arithmetic operations\n",
        "addition = num1 + num2\n",
        "subtraction = num1 - num2\n",
        "multiplication = num1 * num2\n",
        "\n",
        "# Handle division safely\n",
        "if num2 != 0:\n",
        "    division = num1 / num2\n",
        "else:\n",
        "    division = \"undefined (cannot divide by zero)\"\n",
        "\n",
        "# Display the results\n",
        "print(\"\\nResults:\")\n",
        "print(f\"Addition: {num1} + {num2} = {addition}\")\n",
        "print(f\"Subtraction: {num1} - {num2} = {subtraction}\")\n",
        "print(f\"Multiplication: {num1} * {num2} = {multiplication}\")\n",
        "print(f\"Division: {num1} / {num2} = {division}\")\n"
      ],
      "metadata": {
        "colab": {
          "base_uri": "https://localhost:8080/"
        },
        "id": "t8Oo6bV-xIZc",
        "outputId": "18f3984c-dd25-447e-c901-6cf9926e395d"
      },
      "execution_count": 13,
      "outputs": [
        {
          "output_type": "stream",
          "name": "stdout",
          "text": [
            "Enter the first number: 23\n",
            "Enter the second number: 68\n",
            "\n",
            "Results:\n",
            "Addition: 23.0 + 68.0 = 91.0\n",
            "Subtraction: 23.0 - 68.0 = -45.0\n",
            "Multiplication: 23.0 * 68.0 = 1564.0\n",
            "Division: 23.0 / 68.0 = 0.3382352941176471\n"
          ]
        }
      ]
    },
    {
      "cell_type": "code",
      "source": [
        "#Q8 . Write a program to demonstrate the use of logical operators.\n",
        "# Ask the user for two numbers\n",
        "a = int(input(\"Enter the first number: \"))\n",
        "b = int(input(\"Enter the second number: \"))\n",
        "\n",
        "# Demonstrating logical AND\n",
        "if a > 0 and b > 0:\n",
        "    print(\"Both numbers are positive.\")\n",
        "\n",
        "# Demonstrating logical OR\n",
        "if a > 0 or b > 0:\n",
        "    print(\"At least one number is positive.\")\n",
        "\n",
        "# Demonstrating logical NOT\n",
        "if not (a < 0):\n",
        "    print(\"First number is NOT negative.\")\n"
      ],
      "metadata": {
        "colab": {
          "base_uri": "https://localhost:8080/"
        },
        "id": "YKeFO77rxIWO",
        "outputId": "76e70d08-53f9-4cd7-eed1-4361aadb29ee"
      },
      "execution_count": 14,
      "outputs": [
        {
          "output_type": "stream",
          "name": "stdout",
          "text": [
            "Enter the first number: 99\n",
            "Enter the second number: 89\n",
            "Both numbers are positive.\n",
            "At least one number is positive.\n",
            "First number is NOT negative.\n"
          ]
        }
      ]
    },
    {
      "cell_type": "markdown",
      "source": [],
      "metadata": {
        "id": "OOZZYvjdx4DW"
      }
    },
    {
      "cell_type": "code",
      "source": [
        "#Q9  Write a Python program to convert user input from string to integer, float, and boolean types.\n",
        " # Take user input as string\n",
        "user_input = input(\"Enter something: \")\n",
        "\n",
        "# Convert to integer\n",
        "try:\n",
        "    int_value = int(user_input)\n",
        "except ValueError:\n",
        "    int_value = \"Cannot convert to integer\"\n",
        "\n",
        "# Convert to float\n",
        "try:\n",
        "    float_value = float(user_input)\n",
        "except ValueError:\n",
        "    float_value = \"Cannot convert to float\"\n",
        "\n",
        "# Convert to boolean\n",
        "# In Python, non-empty strings are True, empty string is False\n",
        "bool_value = bool(user_input)\n",
        "\n",
        "# Display the results\n",
        "print(f\"\\nYou entered: {user_input}\")\n",
        "print(f\"As integer: {int_value}\")\n",
        "print(f\"As float: {float_value}\")\n",
        "print(f\"As boolean: {bool_value}\")\n"
      ],
      "metadata": {
        "colab": {
          "base_uri": "https://localhost:8080/"
        },
        "id": "rwV21UsjxION",
        "outputId": "840a4db0-b78e-4480-a8ef-122e42f031f9"
      },
      "execution_count": 15,
      "outputs": [
        {
          "output_type": "stream",
          "name": "stdout",
          "text": [
            "Enter something: 789\n",
            "\n",
            "You entered: 789\n",
            "As integer: 789\n",
            "As float: 789.0\n",
            "As boolean: True\n"
          ]
        }
      ]
    },
    {
      "cell_type": "code",
      "source": [
        "#Q10  Write code to demonstrate type casting with list elements.\n",
        "# List of numbers as strings\n",
        "str_numbers = [\"10\", \"20\", \"30\", \"40\"]\n",
        "\n",
        "print(\"Original list (strings):\", str_numbers)\n",
        "\n",
        "# Convert list of strings to list of integers\n",
        "int_numbers = [int(num) for num in str_numbers]\n",
        "\n",
        "print(\"After casting to integers:\", int_numbers)\n",
        "\n",
        "# Now convert list of integers to list of floats\n",
        "float_numbers = [float(num) for num in int_numbers]\n",
        "\n",
        "print(\"After casting to floats:\", float_numbers)\n"
      ],
      "metadata": {
        "colab": {
          "base_uri": "https://localhost:8080/"
        },
        "id": "cUWFLa0gxIIt",
        "outputId": "5cfa99b0-a4f8-4ff3-e3fb-bb52bdfeffca"
      },
      "execution_count": 16,
      "outputs": [
        {
          "output_type": "stream",
          "name": "stdout",
          "text": [
            "Original list (strings): ['10', '20', '30', '40']\n",
            "After casting to integers: [10, 20, 30, 40]\n",
            "After casting to floats: [10.0, 20.0, 30.0, 40.0]\n"
          ]
        }
      ]
    },
    {
      "cell_type": "code",
      "source": [
        "#Q11 Write a program that checks if a number is positive, negative, or zero.\n",
        "# Get a number from the user\n",
        "num = float(input(\"Enter a number: \"))\n",
        "\n",
        "# Check if positive, negative, or zero\n",
        "if num > 0:\n",
        "    print(\"The number is positive.\")\n",
        "elif num < 0:\n",
        "    print(\"The number is negative.\")\n",
        "else:\n",
        "    print(\"The number is zero.\")\n"
      ],
      "metadata": {
        "colab": {
          "base_uri": "https://localhost:8080/"
        },
        "id": "KJREULcsxUvg",
        "outputId": "3124b547-5ed5-4550-f846-6052760c2e0b"
      },
      "execution_count": 17,
      "outputs": [
        {
          "output_type": "stream",
          "name": "stdout",
          "text": [
            "Enter a number: 67\n",
            "The number is positive.\n"
          ]
        }
      ]
    },
    {
      "cell_type": "code",
      "source": [
        "#Q12  Write a for loop to print numbers from 1 to 10\n",
        "for i in range(1, 11):\n",
        "    print(i)\n"
      ],
      "metadata": {
        "colab": {
          "base_uri": "https://localhost:8080/"
        },
        "id": "Qvedg-zKxUr7",
        "outputId": "380a98f2-b537-489c-dd49-bc757508e147"
      },
      "execution_count": 18,
      "outputs": [
        {
          "output_type": "stream",
          "name": "stdout",
          "text": [
            "1\n",
            "2\n",
            "3\n",
            "4\n",
            "5\n",
            "6\n",
            "7\n",
            "8\n",
            "9\n",
            "10\n"
          ]
        }
      ]
    },
    {
      "cell_type": "code",
      "source": [
        "#Q13 Write a Python program to find the sum of all even numbers between 1 and 50.\n",
        "# Initialize sum\n",
        "total = 0\n",
        "\n",
        "# Loop through numbers from 1 to 50\n",
        "for num in range(1, 51):\n",
        "    if num % 2 == 0:  # Check if the number is even\n",
        "        total += num\n",
        "\n",
        "print(\"Sum of all even numbers between 1 and 50 is:\", total)\n"
      ],
      "metadata": {
        "colab": {
          "base_uri": "https://localhost:8080/"
        },
        "id": "G6lelPllxUpv",
        "outputId": "e2e55e92-518d-402d-ed12-cdb1a55d67e0"
      },
      "execution_count": 19,
      "outputs": [
        {
          "output_type": "stream",
          "name": "stdout",
          "text": [
            "Sum of all even numbers between 1 and 50 is: 650\n"
          ]
        }
      ]
    },
    {
      "cell_type": "code",
      "source": [
        "#Q14 Write a program to reverse a string using a while loop\n",
        "# Get input from the user\n",
        "original_str = input(\"Enter a string to reverse: \")\n",
        "\n",
        "# Initialize variables\n",
        "reversed_str = \"\"\n",
        "index = len(original_str) - 1\n",
        "\n",
        "# Loop to build the reversed string\n",
        "while index >= 0:\n",
        "    reversed_str += original_str[index]\n",
        "    index -= 1\n",
        "\n",
        "print(\"Reversed string:\", reversed_str)\n"
      ],
      "metadata": {
        "colab": {
          "base_uri": "https://localhost:8080/"
        },
        "id": "6JORbJ0NxUnN",
        "outputId": "62ec25fc-23d8-44fb-d305-a496fb2487bd"
      },
      "execution_count": 20,
      "outputs": [
        {
          "output_type": "stream",
          "name": "stdout",
          "text": [
            "Enter a string to reverse: confidence\n",
            "Reversed string: ecnedifnoc\n"
          ]
        }
      ]
    },
    {
      "cell_type": "code",
      "source": [
        "#Q15 Write a Python program to calculate the factorial of a number provided by the user using a while loop.\n",
        "\n",
        "# Get input from user\n",
        "num = int(input(\"Enter a non-negative integer: \"))\n",
        "\n",
        "# Check if the number is valid\n",
        "if num < 0:\n",
        "    print(\"Factorial is not defined for negative numbers.\")\n",
        "else:\n",
        "    factorial = 1\n",
        "    i = 1\n",
        "    while i <= num:\n",
        "        factorial *= i\n",
        "        i += 1\n",
        "    print(f\"Factorial of {num} is {factorial}\")\n"
      ],
      "metadata": {
        "colab": {
          "base_uri": "https://localhost:8080/"
        },
        "id": "ArC5W6pGxUkk",
        "outputId": "248f6ea7-bf29-44aa-db9e-5c89b28930eb"
      },
      "execution_count": 21,
      "outputs": [
        {
          "output_type": "stream",
          "name": "stdout",
          "text": [
            "Enter a non-negative integer: 8\n",
            "Factorial of 8 is 40320\n"
          ]
        }
      ]
    },
    {
      "cell_type": "code",
      "source": [
        "#"
      ],
      "metadata": {
        "id": "_fBKcql_xUhu"
      },
      "execution_count": null,
      "outputs": []
    },
    {
      "cell_type": "code",
      "source": [],
      "metadata": {
        "id": "S275QffyxUfG"
      },
      "execution_count": null,
      "outputs": []
    },
    {
      "cell_type": "code",
      "source": [],
      "metadata": {
        "id": "HnbfR0uPxUcY"
      },
      "execution_count": null,
      "outputs": []
    }
  ]
}